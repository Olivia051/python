{
  "nbformat": 4,
  "nbformat_minor": 0,
  "metadata": {
    "colab": {
      "name": "ch03.ipynb",
      "provenance": [],
      "collapsed_sections": []
    },
    "kernelspec": {
      "name": "python3",
      "display_name": "Python 3"
    },
    "language_info": {
      "name": "python"
    }
  },
  "cells": [
    {
      "cell_type": "markdown",
      "source": [
        "#5/2"
      ],
      "metadata": {
        "id": "w-13KnJHd-fM"
      }
    },
    {
      "cell_type": "code",
      "execution_count": null,
      "metadata": {
        "colab": {
          "base_uri": "https://localhost:8080/"
        },
        "id": "_VkOlR5Ad7jd",
        "outputId": "dcfa6e94-c07f-45b7-eb3d-48606912c3db"
      },
      "outputs": [
        {
          "output_type": "stream",
          "name": "stdout",
          "text": [
            "90\n",
            "90\n",
            "100\n",
            "88\n",
            "60\n",
            "79\n"
          ]
        }
      ],
      "source": [
        "score=[90,100,88,60,79]\n",
        "print(score[0])\n",
        "print(score[1])\n",
        "\n",
        "for i in range(len(score)):  #len(score): score長度\n",
        "  print(score[i])"
      ]
    },
    {
      "cell_type": "code",
      "source": [
        "#score=[90,100,88,60,79]\n",
        "print(score[0:3])  #取出score[0]-score[2]，不包含score[3]\n",
        "print(score[:])   #取出所有的值\n",
        "print(score[:4])  #取出score[0]-score[3]，不包含score[4]\n",
        "print(score[2:])  #取出score[2]後面所有的值\n",
        "print(score[0:5:2]) #間隔2 \n",
        "print(score[::2])  #間隔2\n",
        "print(score[::-2])  #間隔-2，代表從列表最後往前取值，間隔2\n",
        "print(score[4:0:-2])\n"
      ],
      "metadata": {
        "id": "j3sKbyaqmTFM"
      },
      "execution_count": null,
      "outputs": []
    },
    {
      "cell_type": "code",
      "source": [
        "astr=\"abcdefghijklmnopqrstuvwxyz\"\n",
        "print(astr[0])\n",
        "print(astr[25])\n",
        "print(astr[5:20])"
      ],
      "metadata": {
        "colab": {
          "base_uri": "https://localhost:8080/"
        },
        "id": "B3dtRaV7gPNX",
        "outputId": "78ee1a06-6ed0-49bb-831f-e4764d635627"
      },
      "execution_count": null,
      "outputs": [
        {
          "output_type": "stream",
          "name": "stdout",
          "text": [
            "a\n",
            "z\n",
            "fghijklmnopqrst\n"
          ]
        }
      ]
    },
    {
      "cell_type": "markdown",
      "source": [
        "#5/9"
      ],
      "metadata": {
        "id": "1OhEgrMrc0_5"
      }
    },
    {
      "cell_type": "code",
      "source": [
        "my_list0=[]\n",
        "print(my_list0)\n",
        "my_list1=list()\n",
        "my_list2=['python','javascript','c#']\n",
        "print(my_list2)\n",
        "print(len(my_list2)) #len:計算list的長度\n",
        "print(my_list2[2])"
      ],
      "metadata": {
        "colab": {
          "base_uri": "https://localhost:8080/"
        },
        "id": "rXUNZFNAbsSp",
        "outputId": "7345e62f-ca46-4034-d9fb-16b2a9dd25a4"
      },
      "execution_count": null,
      "outputs": [
        {
          "output_type": "stream",
          "name": "stdout",
          "text": [
            "[]\n",
            "['python', 'javascript', 'c#']\n",
            "3\n",
            "c#\n"
          ]
        }
      ]
    },
    {
      "cell_type": "code",
      "source": [
        "my_list2=['python','javascript','c#']\n",
        "my_list2.append('java') #append:附加在最後面\n",
        "print(my_list2)\n",
        "my_list2.remove('java') #remove:移除\n",
        "print(my_list2)\n",
        "my_list2.insert(0,'java') #insert:插入物件，需要指定索引位置\n",
        "print(my_list2)\n",
        "my_list2.clear() #clear:清除所有物件\n",
        "print(my_list2)"
      ],
      "metadata": {
        "colab": {
          "base_uri": "https://localhost:8080/"
        },
        "id": "LTGwJbuLea7f",
        "outputId": "817e6762-1d46-44f2-92c7-0696a95f2a64"
      },
      "execution_count": null,
      "outputs": [
        {
          "output_type": "stream",
          "name": "stdout",
          "text": [
            "['python', 'javascript', 'c#', 'java']\n",
            "['python', 'javascript', 'c#']\n",
            "['java', 'python', 'javascript', 'c#']\n",
            "[]\n"
          ]
        }
      ]
    },
    {
      "cell_type": "code",
      "source": [
        "a=[1,2,3]\n",
        "b=[4,5,6]\n",
        "c=a+b\n",
        "print(c)\n",
        "d=a*2\n",
        "print(d)"
      ],
      "metadata": {
        "colab": {
          "base_uri": "https://localhost:8080/"
        },
        "id": "FrtN_SjLhYmX",
        "outputId": "8e1603fb-aa7c-426b-d4a8-2cb5e5ae21bb"
      },
      "execution_count": null,
      "outputs": [
        {
          "output_type": "stream",
          "name": "stdout",
          "text": [
            "[1, 2, 3, 4, 5, 6]\n",
            "[1, 2, 3, 1, 2, 3]\n"
          ]
        }
      ]
    }
  ]
}