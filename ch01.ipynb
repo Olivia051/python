{
  "nbformat": 4,
  "nbformat_minor": 0,
  "metadata": {
    "colab": {
      "name": "ch01.ipynb",
      "provenance": [],
      "collapsed_sections": []
    },
    "kernelspec": {
      "name": "python3",
      "display_name": "Python 3"
    },
    "language_info": {
      "name": "python"
    }
  },
  "cells": [
    {
      "cell_type": "markdown",
      "source": [
        "##ch01 3/14\n",
        "#註解\n",
        "\n"
      ],
      "metadata": {
        "id": "_MJVWrcgEOc7"
      }
    },
    {
      "cell_type": "code",
      "execution_count": null,
      "metadata": {
        "colab": {
          "base_uri": "https://localhost:8080/"
        },
        "id": "xCpafYU7AXy6",
        "outputId": "98bed6e1-b679-4dff-daa3-78915b1f61dc"
      },
      "outputs": [
        {
          "output_type": "stream",
          "name": "stdout",
          "text": [
            "8\n"
          ]
        }
      ],
      "source": [
        "a=3 #單行註解\n",
        "b=5\n",
        "print(a+b)"
      ]
    },
    {
      "cell_type": "code",
      "source": [
        "'''\n",
        "多行註解\n",
        "'''\n",
        "a=3\n",
        "b=5\n",
        "print(a+b)"
      ],
      "metadata": {
        "colab": {
          "base_uri": "https://localhost:8080/"
        },
        "id": "tjdxRts9D_jN",
        "outputId": "7d1ec4dc-978a-4404-9a1e-680510fdfdda"
      },
      "execution_count": null,
      "outputs": [
        {
          "output_type": "stream",
          "name": "stdout",
          "text": [
            "8\n"
          ]
        }
      ]
    },
    {
      "cell_type": "markdown",
      "source": [
        "運算式"
      ],
      "metadata": {
        "id": "e0n1OCyKJk5x"
      }
    },
    {
      "cell_type": "code",
      "source": [
        "a=5\n",
        "b=3\n",
        "#透過第三變數，交換a,b的值\n",
        "c=a\n",
        "a=b\n",
        "b=c\n",
        "print(a)\n",
        "print(b)"
      ],
      "metadata": {
        "colab": {
          "base_uri": "https://localhost:8080/"
        },
        "id": "y3oLl1z3Ih00",
        "outputId": "58add212-c19e-4c16-edc9-4a41a7dd5200"
      },
      "execution_count": null,
      "outputs": [
        {
          "output_type": "stream",
          "name": "stdout",
          "text": [
            "3\n",
            "5\n"
          ]
        }
      ]
    },
    {
      "cell_type": "code",
      "source": [
        "#不透過第三變數，交換a,b的值\n",
        "a=5\n",
        "b=3\n",
        "a=a+b\n",
        "b=a-b\n",
        "a=a-b\n",
        "print(a)\n",
        "print(b)"
      ],
      "metadata": {
        "colab": {
          "base_uri": "https://localhost:8080/"
        },
        "id": "OiPbD-mBIePE",
        "outputId": "05d11427-36cf-4882-a514-f04dc518e7b8"
      },
      "execution_count": null,
      "outputs": [
        {
          "output_type": "stream",
          "name": "stdout",
          "text": [
            "3\n",
            "5\n"
          ]
        }
      ]
    },
    {
      "cell_type": "code",
      "source": [
        "a=5\n",
        "b=3\n",
        "a,b=b,a\n",
        "print(a)\n",
        "print(b)"
      ],
      "metadata": {
        "colab": {
          "base_uri": "https://localhost:8080/"
        },
        "id": "RLiOc_WWJWq8",
        "outputId": "8351f1f4-dcd0-4129-c8d3-f91402fac654"
      },
      "execution_count": null,
      "outputs": [
        {
          "output_type": "stream",
          "name": "stdout",
          "text": [
            "3\n",
            "5\n"
          ]
        }
      ]
    },
    {
      "cell_type": "markdown",
      "source": [
        "##變數\n",
        "變數的平行設定"
      ],
      "metadata": {
        "id": "5hsoY-WLQlq5"
      }
    },
    {
      "cell_type": "code",
      "source": [
        "x,y,z=(3,4,5)\n",
        "print(x,y,z)"
      ],
      "metadata": {
        "colab": {
          "base_uri": "https://localhost:8080/"
        },
        "id": "AgbbskjEQSbz",
        "outputId": "88211a09-de3d-485a-8d2e-4d47ccefb4b0"
      },
      "execution_count": null,
      "outputs": [
        {
          "output_type": "stream",
          "name": "stdout",
          "text": [
            "3 4 5\n"
          ]
        }
      ]
    },
    {
      "cell_type": "code",
      "source": [
        "x,y,z=(3,4,5)\n",
        "x+=1 #x=x+1\n",
        "y*=2 #y=y*2\n",
        "z**=3 #z=z**3\n",
        "print(x,y,z)"
      ],
      "metadata": {
        "colab": {
          "base_uri": "https://localhost:8080/"
        },
        "id": "65SOPdn_RmyZ",
        "outputId": "fd23c1c1-8663-47c8-b528-57445f5f089a"
      },
      "execution_count": null,
      "outputs": [
        {
          "output_type": "stream",
          "name": "stdout",
          "text": [
            "4 8 125\n"
          ]
        }
      ]
    },
    {
      "cell_type": "markdown",
      "source": [
        "#Q:10徑為10的圓形，其面積大小為何?"
      ],
      "metadata": {
        "id": "GC-LtVx6TFrb"
      }
    },
    {
      "cell_type": "code",
      "source": [
        "import math\n",
        "r=10\n",
        "print(r*r*math.pi)"
      ],
      "metadata": {
        "colab": {
          "base_uri": "https://localhost:8080/"
        },
        "id": "u8mwPi8nTF4p",
        "outputId": "76493e3d-f678-44e5-f7af-a49e3effd323"
      },
      "execution_count": null,
      "outputs": [
        {
          "output_type": "stream",
          "name": "stdout",
          "text": [
            "314.1592653589793\n"
          ]
        }
      ]
    },
    {
      "cell_type": "code",
      "source": [
        "import math\n",
        "r=eval(input(\"請輸入圓的半徑:\"))  #enal:計算輸入之值\n",
        "print(r*r*math.pi)"
      ],
      "metadata": {
        "colab": {
          "base_uri": "https://localhost:8080/"
        },
        "id": "mkbb-O8XVWC6",
        "outputId": "af6a9e4d-641e-48ec-e84a-dc637969d433"
      },
      "execution_count": null,
      "outputs": [
        {
          "output_type": "stream",
          "name": "stdout",
          "text": [
            "請輸入圓的半徑:10\n",
            "314.1592653589793\n"
          ]
        }
      ]
    },
    {
      "cell_type": "markdown",
      "source": [
        "#資料類別3/21\n",
        "python屬於動態類型變數，使用前不需要宣告資料型態\n"
      ],
      "metadata": {
        "id": "9HNzAIkIF2c9"
      }
    },
    {
      "cell_type": "code",
      "source": [
        "x=254\n",
        "print(type(x))\n",
        "y=254.0\n",
        "print(type(y))\n",
        "z=\"write\"\n",
        "print(type(z))\n",
        "print(x==y)\n",
        "print(type(x==y))"
      ],
      "metadata": {
        "colab": {
          "base_uri": "https://localhost:8080/"
        },
        "id": "dl2Y9Iw6GCOE",
        "outputId": "ca40f347-8fa8-45fa-c688-082fd5865e57"
      },
      "execution_count": null,
      "outputs": [
        {
          "output_type": "stream",
          "name": "stdout",
          "text": [
            "<class 'int'>\n",
            "<class 'float'>\n",
            "<class 'str'>\n",
            "True\n",
            "<class 'bool'>\n"
          ]
        }
      ]
    },
    {
      "cell_type": "code",
      "source": [
        "x=10\n",
        "y=3\n",
        "print(x/y)  #求值\n",
        "print(x//y)  #求商\n",
        "print(x%y)  #求餘"
      ],
      "metadata": {
        "colab": {
          "base_uri": "https://localhost:8080/"
        },
        "id": "n5ad_mkeHwPb",
        "outputId": "3de3567a-0233-49fb-d5ef-7445f13c2471"
      },
      "execution_count": null,
      "outputs": [
        {
          "output_type": "stream",
          "name": "stdout",
          "text": [
            "3.3333333333333335\n",
            "3\n",
            "1\n"
          ]
        }
      ]
    },
    {
      "cell_type": "markdown",
      "source": [
        "#算術符號的順序\n",
        "( ) > ** > * / > + -"
      ],
      "metadata": {
        "id": "aMhpuQ3WM6Io"
      }
    },
    {
      "cell_type": "code",
      "source": [
        "x=(5*(1+2)**2-3+4/2)\n",
        "print(x)"
      ],
      "metadata": {
        "colab": {
          "base_uri": "https://localhost:8080/"
        },
        "id": "wloHyXY6Ml3p",
        "outputId": "4aecbce8-09ed-42ba-b5aa-063c641c3641"
      },
      "execution_count": null,
      "outputs": [
        {
          "output_type": "stream",
          "name": "stdout",
          "text": [
            "44.0\n"
          ]
        }
      ]
    },
    {
      "cell_type": "markdown",
      "source": [
        "#型態轉換"
      ],
      "metadata": {
        "id": "ks3U7C29SVqW"
      }
    },
    {
      "cell_type": "code",
      "source": [
        "x=\"must\"\n",
        "print(10*x)\n",
        "print(\"10\"+x)\n",
        "print(10,x) "
      ],
      "metadata": {
        "colab": {
          "base_uri": "https://localhost:8080/"
        },
        "id": "v2AtnUH0Sk49",
        "outputId": "828782e9-e685-41af-9168-836a4b147275"
      },
      "execution_count": null,
      "outputs": [
        {
          "output_type": "stream",
          "name": "stdout",
          "text": [
            "mustmustmustmustmustmustmustmustmustmust\n",
            "10must\n",
            "10 must\n"
          ]
        }
      ]
    },
    {
      "cell_type": "code",
      "source": [
        "x=12\n",
        "print(type(x))\n",
        "y=float(x)+0.5 #強制型別轉換\n",
        "print(type(y))\n",
        "print(y)\n",
        "print(int(y))\n",
        "print(int(\"12\"))\n",
        "print(float(\"12.5\"))\n",
        "print(eval(\"5.5*2\"))"
      ],
      "metadata": {
        "colab": {
          "base_uri": "https://localhost:8080/"
        },
        "id": "zk3neqF1V-Ot",
        "outputId": "87860ae3-c576-40ad-f3c9-429fadbc0d7a"
      },
      "execution_count": null,
      "outputs": [
        {
          "output_type": "stream",
          "name": "stdout",
          "text": [
            "<class 'int'>\n",
            "<class 'float'>\n",
            "12.5\n",
            "12\n",
            "12\n",
            "12.5\n",
            "11.0\n"
          ]
        }
      ]
    },
    {
      "cell_type": "markdown",
      "source": [
        "#3/28\n",
        "##print的三種方式\n",
        "\n",
        " \n",
        "\n",
        "\n",
        "1.   透過,區隔要列印的變數 eg: print(\"This\", \"is\", \"a\", \"book\")\n",
        "2.   利用字串的str.format() (新式)\n",
        "3.   %格式化输出字符串 (舊式)\n"
      ],
      "metadata": {
        "id": "EvT1EXA_N4dp"
      }
    },
    {
      "cell_type": "code",
      "source": [
        "print(\"This\"+\"is\"+\"a\"+\"book\")\n",
        "print(\"This\",\"is\",\"a\",\"book\")\n",
        "print(\"This\")\n",
        "print(\"is\")\n",
        "print(\"a\")\n",
        "print(\"book\")"
      ],
      "metadata": {
        "colab": {
          "base_uri": "https://localhost:8080/"
        },
        "id": "cnZIY-UjN-RP",
        "outputId": "915c1649-d42f-4b12-cd1c-f5f7a6306071"
      },
      "execution_count": null,
      "outputs": [
        {
          "output_type": "stream",
          "name": "stdout",
          "text": [
            "Thisisabook\n",
            "This is a book\n",
            "This\n",
            "is\n",
            "a\n",
            "book\n"
          ]
        }
      ]
    },
    {
      "cell_type": "markdown",
      "source": [
        "*  利用字串的str.format()，在{ }中替代變數的位置\n",
        "*  eg: print(\"This {} a book\".format(\"is\"))\n",
        "*  {}中可以設定格式\n",
        "*  例如：{0:10} (10個空格，靠左對齊)\n",
        "*  例如：{:,2f} (三個數字用,分隔，小數點後2位數)"
      ],
      "metadata": {
        "id": "6L9_qw7HOD4Y"
      }
    },
    {
      "cell_type": "code",
      "source": [
        "print(\"This {} a book\".format(\"is\"))\n",
        "x=123456.7819\n",
        "print(\"{:.2f}\".format(x))\n",
        "print(\"{:,.2f}\".format(x))"
      ],
      "metadata": {
        "colab": {
          "base_uri": "https://localhost:8080/"
        },
        "id": "HoIgoQblOFFv",
        "outputId": "18664842-e890-4aff-ee41-52e6d9ebbee3"
      },
      "execution_count": null,
      "outputs": [
        {
          "output_type": "stream",
          "name": "stdout",
          "text": [
            "This is a book\n",
            "123456.78\n",
            "123,456.78\n"
          ]
        }
      ]
    },
    {
      "cell_type": "markdown",
      "source": [
        "*   C語言類似的 % 格式\n",
        "*   %s (字串) %d (整數) %f (浮點數)\n",
        "*   %s(字串): %10s (10格靠右對齊，不足的左方補空白), %-10s\n",
        "*   %f(浮點數): %7.3f (總共7個浮點數位數，含一個小數點，以及三個小數點後數字)"
      ],
      "metadata": {
        "id": "myegH3RjOLD_"
      }
    },
    {
      "cell_type": "code",
      "source": [
        "print(\"This %s a book\" % (\"is\"))\n",
        "print(\"This %-10s a book%10s\"%(\"is\",\"!\"))\n",
        "print(\"This %10s a book%-10s\"%(\"is\",\"!\"))\n",
        "print(\"%7.3f\" % (687.4333))"
      ],
      "metadata": {
        "colab": {
          "base_uri": "https://localhost:8080/"
        },
        "id": "q4GqIFGBONhX",
        "outputId": "3bec755f-1b30-42b4-e63d-cc1e23b225b2"
      },
      "execution_count": null,
      "outputs": [
        {
          "output_type": "stream",
          "name": "stdout",
          "text": [
            "This is a book\n",
            "This is         a book         !\n",
            "This         is a book!         \n",
            "687.433\n"
          ]
        }
      ]
    }
  ]
}