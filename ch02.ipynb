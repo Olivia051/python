{
  "nbformat": 4,
  "nbformat_minor": 0,
  "metadata": {
    "colab": {
      "name": "ch02.ipynb",
      "provenance": []
    },
    "kernelspec": {
      "name": "python3",
      "display_name": "Python 3"
    },
    "language_info": {
      "name": "python"
    }
  },
  "cells": [
    {
      "cell_type": "markdown",
      "source": [
        "#4/11\n",
        "###流程控制\n",
        "if else , elif\n",
        "\n",
        "\n",
        "\n",
        "\n",
        "\n",
        "\n",
        "\n",
        "\n"
      ],
      "metadata": {
        "id": "H3QEiiHCMEoS"
      }
    },
    {
      "cell_type": "code",
      "source": [
        "a=eval(input(\"請輸入數字a:\"))\n",
        "b=eval(input(\"請輸入數字b:\"))\n",
        "if a>b:\n",
        "  print(\"a>b\")\n",
        "elif a==b:\n",
        "  print(\"a=b\")\n",
        "else:\n",
        "  print(\"b>a\")\n"
      ],
      "metadata": {
        "colab": {
          "base_uri": "https://localhost:8080/"
        },
        "id": "nMgH5TY8RJXx",
        "outputId": "e77114cc-68f6-4749-f526-d9ea2a548dd1"
      },
      "execution_count": null,
      "outputs": [
        {
          "output_type": "stream",
          "name": "stdout",
          "text": [
            "請輸入數字a:8\n",
            "請輸入數字b:3\n",
            "a>b\n"
          ]
        }
      ]
    },
    {
      "cell_type": "code",
      "source": [
        "grade=87\n",
        "print(\"成績評鑑:\")\n",
        "if grade>=90:\n",
        "  print(\"優等\")\n",
        "elif grade>=80:\n",
        "  print(\"甲等\")\n",
        "elif grade>=70:\n",
        "  print(\"乙等\")\n",
        "elif grade>=60:\n",
        "  print(\"丙等\")\n",
        "else:\n",
        "  print(\"不及格\")"
      ],
      "metadata": {
        "colab": {
          "base_uri": "https://localhost:8080/"
        },
        "id": "r-sX_tsTR_yL",
        "outputId": "eebc21da-4feb-4e62-b052-abc9def311b7"
      },
      "execution_count": null,
      "outputs": [
        {
          "output_type": "stream",
          "name": "stdout",
          "text": [
            "成績評鑑:\n",
            "甲等\n"
          ]
        }
      ]
    },
    {
      "cell_type": "markdown",
      "source": [
        "for迴圈"
      ],
      "metadata": {
        "id": "upTKZ5rDF9qx"
      }
    },
    {
      "cell_type": "code",
      "source": [
        "for i in range(10):  #range(10):0,1，2，...9\n",
        "  print(i)"
      ],
      "metadata": {
        "id": "7Tn7WzJabtta",
        "colab": {
          "base_uri": "https://localhost:8080/"
        },
        "outputId": "276222a3-961e-4248-8709-baf9c1cb414b"
      },
      "execution_count": null,
      "outputs": [
        {
          "output_type": "stream",
          "name": "stdout",
          "text": [
            "0\n",
            "1\n",
            "2\n",
            "3\n",
            "4\n",
            "5\n",
            "6\n",
            "7\n",
            "8\n",
            "9\n"
          ]
        }
      ]
    },
    {
      "cell_type": "code",
      "source": [
        "for i in range(0,10,1): #range(0開始，9結束(不包含10)，每次進1步)\n",
        "  print(i)"
      ],
      "metadata": {
        "id": "661ts8HPcIkg",
        "colab": {
          "base_uri": "https://localhost:8080/"
        },
        "outputId": "baa91811-a21e-46a3-ff0a-ef777ee53414"
      },
      "execution_count": null,
      "outputs": [
        {
          "output_type": "stream",
          "name": "stdout",
          "text": [
            "0\n",
            "1\n",
            "2\n",
            "3\n",
            "4\n",
            "5\n",
            "6\n",
            "7\n",
            "8\n",
            "9\n"
          ]
        }
      ]
    },
    {
      "cell_type": "markdown",
      "source": [
        "求1+2+3+...10的總和"
      ],
      "metadata": {
        "id": "t1NjRNXRe3zH"
      }
    },
    {
      "cell_type": "code",
      "source": [
        "sum=0\n",
        "for count in range(1,11,1):  \n",
        "  sum+=count\n",
        "print(sum)  "
      ],
      "metadata": {
        "colab": {
          "base_uri": "https://localhost:8080/"
        },
        "id": "LUeVucdQegX2",
        "outputId": "aaac244e-2a25-4b03-e6e7-9be554e75327"
      },
      "execution_count": null,
      "outputs": [
        {
          "output_type": "stream",
          "name": "stdout",
          "text": [
            "55\n"
          ]
        }
      ]
    },
    {
      "cell_type": "code",
      "source": [
        "for c in \"I am a boy\":\n",
        "  print(c)"
      ],
      "metadata": {
        "id": "3LkGX89_hVDd",
        "colab": {
          "base_uri": "https://localhost:8080/"
        },
        "outputId": "77bc6c42-61a9-40ce-ed7d-67998103d0fd"
      },
      "execution_count": null,
      "outputs": [
        {
          "output_type": "stream",
          "name": "stdout",
          "text": [
            "I\n",
            " \n",
            "a\n",
            "m\n",
            " \n",
            "a\n",
            " \n",
            "b\n",
            "o\n",
            "y\n"
          ]
        }
      ]
    },
    {
      "cell_type": "code",
      "source": [
        "for score in [90,100,88,77]:\n",
        "  print(score)"
      ],
      "metadata": {
        "id": "94uqOzj-hmzs",
        "colab": {
          "base_uri": "https://localhost:8080/"
        },
        "outputId": "a1c3168f-1c14-4650-826a-6c9f6b842f86"
      },
      "execution_count": null,
      "outputs": [
        {
          "output_type": "stream",
          "name": "stdout",
          "text": [
            "90\n",
            "100\n",
            "88\n",
            "77\n"
          ]
        }
      ]
    },
    {
      "cell_type": "code",
      "source": [
        "for s in [\"john\",\"mary\",\"tom\",\"simpson\"]:\n",
        "  print(s)"
      ],
      "metadata": {
        "colab": {
          "base_uri": "https://localhost:8080/"
        },
        "id": "KF28seM1h3J8",
        "outputId": "747958ec-2008-4ebf-decb-af317ff50583"
      },
      "execution_count": null,
      "outputs": [
        {
          "output_type": "stream",
          "name": "stdout",
          "text": [
            "john\n",
            "mary\n",
            "tom\n",
            "simpson\n"
          ]
        }
      ]
    },
    {
      "cell_type": "markdown",
      "source": [
        "雞兔同籠，若共有35個頭，94隻腳，請問有幾隻雞?幾隻兔?"
      ],
      "metadata": {
        "id": "UW_YKk-9-3Wa"
      }
    },
    {
      "cell_type": "code",
      "source": [
        "for chicken in range(0,36):\n",
        "  rabbit=35-chicken\n",
        "  if(2*chicken+4*rabbit) == 94:\n",
        "    print(\"雞有\",chicken,\"隻,兔子有\",rabbit,\"隻\")\n",
        "    break\n",
        "else:\n",
        "  print(\"無解\")\n"
      ],
      "metadata": {
        "colab": {
          "base_uri": "https://localhost:8080/"
        },
        "id": "VYEIquWf-2dC",
        "outputId": "0c0595bd-d7b0-47ff-f559-3b5a3ff605d4"
      },
      "execution_count": null,
      "outputs": [
        {
          "output_type": "stream",
          "name": "stdout",
          "text": [
            "雞有 23 隻,兔子有 12 隻\n"
          ]
        }
      ]
    },
    {
      "cell_type": "markdown",
      "source": [
        "while迴圈"
      ],
      "metadata": {
        "id": "RptR78WzG0LU"
      }
    },
    {
      "cell_type": "code",
      "source": [
        "sum=0\n",
        "count=1\n",
        "while count <=10:\n",
        "    sum+=count\n",
        "    count+=1\n",
        "print(\"1+2+3+...+10=\",sum)\n"
      ],
      "metadata": {
        "colab": {
          "base_uri": "https://localhost:8080/"
        },
        "id": "lPcTMcYLHIlI",
        "outputId": "18046021-be9f-42b6-9626-94900f2e1914"
      },
      "execution_count": null,
      "outputs": [
        {
          "output_type": "stream",
          "name": "stdout",
          "text": [
            "1+2+3+...+10= 55\n"
          ]
        }
      ]
    }
  ]
}