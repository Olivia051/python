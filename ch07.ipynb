{
  "nbformat": 4,
  "nbformat_minor": 0,
  "metadata": {
    "colab": {
      "name": "ch07",
      "provenance": [],
      "collapsed_sections": []
    },
    "kernelspec": {
      "name": "python3",
      "display_name": "Python 3"
    },
    "language_info": {
      "name": "python"
    }
  },
  "cells": [
    {
      "cell_type": "markdown",
      "source": [
        "#5/16\n",
        "#錯誤處理\n",
        ">try:程式碼\n",
        "\n",
        ">except:例外的時候處理動作\n",
        "\n",
        ">else:當沒有進入例外(程式正確)的處理動作\n",
        "\n",
        ">finally:不管正確例外，都會執行的動作"
      ],
      "metadata": {
        "id": "7mHyvbKhzW6A"
      }
    },
    {
      "cell_type": "code",
      "execution_count": null,
      "metadata": {
        "colab": {
          "base_uri": "https://localhost:8080/",
          "height": 203
        },
        "id": "cl6aH8qMzFHm",
        "outputId": "c49974e0-cb93-4dae-c84e-e505b7dd7fd5"
      },
      "outputs": [
        {
          "output_type": "error",
          "ename": "NameError",
          "evalue": "ignored",
          "traceback": [
            "\u001b[0;31m---------------------------------------------------------------------------\u001b[0m",
            "\u001b[0;31mNameError\u001b[0m                                 Traceback (most recent call last)",
            "\u001b[0;32m<ipython-input-1-609ab5985554>\u001b[0m in \u001b[0;36m<module>\u001b[0;34m()\u001b[0m\n\u001b[1;32m      2\u001b[0m \u001b[0mb\u001b[0m\u001b[0;34m=\u001b[0m\u001b[0;36m20\u001b[0m\u001b[0;34m\u001b[0m\u001b[0;34m\u001b[0m\u001b[0m\n\u001b[1;32m      3\u001b[0m \u001b[0;32mif\u001b[0m \u001b[0ma\u001b[0m\u001b[0;34m<\u001b[0m\u001b[0mb\u001b[0m\u001b[0;34m:\u001b[0m\u001b[0;34m\u001b[0m\u001b[0;34m\u001b[0m\u001b[0m\n\u001b[0;32m----> 4\u001b[0;31m   \u001b[0mprint\u001b[0m\u001b[0;34m(\u001b[0m\u001b[0mn\u001b[0m\u001b[0;34m)\u001b[0m\u001b[0;34m\u001b[0m\u001b[0;34m\u001b[0m\u001b[0m\n\u001b[0m",
            "\u001b[0;31mNameError\u001b[0m: name 'n' is not defined"
          ]
        }
      ],
      "source": [
        "a=10\n",
        "b=20\n",
        "if a<b:\n",
        "  print(n)"
      ]
    },
    {
      "cell_type": "code",
      "source": [
        "try:\n",
        "  a=10\n",
        "  b=20\n",
        "  if a<b:\n",
        "    print(n)\n",
        "except NameError:\n",
        "  print(\"錯誤產生\")\n"
      ],
      "metadata": {
        "colab": {
          "base_uri": "https://localhost:8080/"
        },
        "id": "b7NhGH10zimo",
        "outputId": "31de2482-2940-448f-c6ef-e9897b05bc72"
      },
      "execution_count": null,
      "outputs": [
        {
          "output_type": "stream",
          "name": "stdout",
          "text": [
            "錯誤產生\n"
          ]
        }
      ]
    },
    {
      "cell_type": "markdown",
      "source": [
        "#指定錯誤類別處理"
      ],
      "metadata": {
        "id": "fFDBfpEAzoNm"
      }
    },
    {
      "cell_type": "code",
      "source": [
        "a=10\n",
        "b=20\n",
        "try:\n",
        "  if a<b:\n",
        "    print(n)\n",
        "except NameError as e:\n",
        "  print(\"錯誤產生，錯誤原因:\",e)\n",
        "except ZeroDivisionError:\n",
        "  print(\"除以0錯誤\")\n"
      ],
      "metadata": {
        "colab": {
          "base_uri": "https://localhost:8080/"
        },
        "id": "p7ClaUr2zlXk",
        "outputId": "bf48355c-7855-48a0-e4fb-7b7b774cfd03"
      },
      "execution_count": null,
      "outputs": [
        {
          "output_type": "stream",
          "name": "stdout",
          "text": [
            "錯誤產生，錯誤原因: name 'n' is not defined\n"
          ]
        }
      ]
    },
    {
      "cell_type": "code",
      "source": [
        "try:\n",
        "  a=10\n",
        "  b=20\n",
        "  if a<b:\n",
        "    print(\"a<b\")  #改變比較條件，讓錯誤不發生\n",
        "except NameError:\n",
        "  print(\"NameError錯誤產生\")\n",
        "except:\n",
        "  print(\"其他錯誤產生\")\n",
        "else:\n",
        "  print(\"沒有任何錯誤產生\")\n",
        "finally:\n",
        "  print(\"不管程式正確錯誤都會執行的部分\")"
      ],
      "metadata": {
        "colab": {
          "base_uri": "https://localhost:8080/"
        },
        "id": "AbDaiE_zzxPT",
        "outputId": "24a517df-ba35-4acc-bae1-514fafc4654b"
      },
      "execution_count": null,
      "outputs": [
        {
          "output_type": "stream",
          "name": "stdout",
          "text": [
            "a<b\n",
            "沒有任何錯誤產生\n",
            "不管程式正確錯誤都會執行的部分\n"
          ]
        }
      ]
    }
  ]
}