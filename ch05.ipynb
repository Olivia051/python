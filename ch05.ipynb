{
  "nbformat": 4,
  "nbformat_minor": 0,
  "metadata": {
    "colab": {
      "name": "ch05.ipynb",
      "provenance": []
    },
    "kernelspec": {
      "name": "python3",
      "display_name": "Python 3"
    },
    "language_info": {
      "name": "python"
    }
  },
  "cells": [
    {
      "cell_type": "markdown",
      "source": [
        "#5/16\n",
        "#函式\n",
        "- 獨立出來的程式組\n",
        "- 可以接受傳入值(多個)\n",
        "- 輸出回傳值(一個)"
      ],
      "metadata": {
        "id": "7CZ4xB9OAHt8"
      }
    },
    {
      "cell_type": "code",
      "execution_count": null,
      "metadata": {
        "colab": {
          "base_uri": "https://localhost:8080/"
        },
        "id": "q_uife5ZACrc",
        "outputId": "2ec0741d-6197-49ab-acb2-40862a6053ed"
      },
      "outputs": [
        {
          "output_type": "stream",
          "name": "stdout",
          "text": [
            "請輸入圓的半徑:10\n",
            "圓的面積為: 314.1592653589793\n"
          ]
        }
      ],
      "source": [
        "#傳統的寫法\n",
        "import math\n",
        "radius=eval(input(\"請輸入圓的半徑:\"))  #把輸入的字串變成數學計算型態\n",
        "print(\"圓的面積為:\",radius *radius *math.pi)"
      ]
    },
    {
      "cell_type": "markdown",
      "source": [
        "#圓面積計算函式"
      ],
      "metadata": {
        "id": "D1GXfb1WANV0"
      }
    },
    {
      "cell_type": "code",
      "source": [
        "import math\n",
        "def circle_area(radius):\n",
        "  area = radius * radius *math.pi\n",
        "  return area\n",
        "\n",
        "print(\"半徑10，圓面積為:\",circle_area(10))\n",
        "print(\"半徑5，圓面積為:\",circle_area(5))\n",
        "print(\"半徑20，圓面積為:\",circle_area(20))"
      ],
      "metadata": {
        "id": "MpiyC7MEASGV",
        "outputId": "5a7688d3-97d5-45b0-aa2e-a653291428cd",
        "colab": {
          "base_uri": "https://localhost:8080/"
        }
      },
      "execution_count": null,
      "outputs": [
        {
          "output_type": "stream",
          "name": "stdout",
          "text": [
            "半徑10，圓面積為: 314.1592653589793\n",
            "半徑5，圓面積為: 78.53981633974483\n",
            "半徑20，圓面積為: 1256.6370614359173\n"
          ]
        }
      ]
    }
  ]
}